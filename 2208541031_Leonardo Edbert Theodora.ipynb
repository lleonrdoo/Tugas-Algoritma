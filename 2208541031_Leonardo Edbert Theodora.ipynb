{
 "cells": [
  {
   "cell_type": "code",
   "execution_count": 2,
   "id": "a08eba1b",
   "metadata": {},
   "outputs": [
    {
     "name": "stdout",
     "output_type": "stream",
     "text": [
      "Nama saya adalah Leonardo Edbert Theodora\n",
      "Ini adalah pengalaman pertama saya menggunakan python\n",
      "Dan untuk sekarang terlihat tidak sesulit C++\n"
     ]
    }
   ],
   "source": [
    "##############################\n",
    "# Tentang Print\n",
    "#############################\n",
    "\n",
    "\n",
    "print (\"Nama saya adalah Leonardo Edbert Theodora\")\n",
    "print (\"Ini adalah pengalaman pertama saya menggunakan python\")\n",
    "print (\"Dan untuk sekarang terlihat tidak sesulit C++\")\n",
    "# tipe data string yang diinput kedalam 'print' akan menghasilkan output sama seperti data string yang dimasukkan"
   ]
  },
  {
   "cell_type": "code",
   "execution_count": 1,
   "id": "78f3038f",
   "metadata": {},
   "outputs": [
    {
     "name": "stdout",
     "output_type": "stream",
     "text": [
      "siapa namamu?Leonardo\n",
      "nim berapa di kelas?A\n",
      "tahun berapakah sekarang?2023\n",
      "tahun berapa kamu lahir?2004\n",
      "Namamu adalah Leonardo\n",
      "NIM mu adalah A\n",
      "Umurmu adalah 4027\n"
     ]
    }
   ],
   "source": [
    "##############################\n",
    "# Tentang Input\n",
    "# Data pribadi\n",
    "##############################\n",
    "\n",
    "nama_31 = input(\"siapa namamu?\") # memasukan data string kedalam variable 'nama_31'\n",
    "nim_31 = input(\"nim berapa di kelas?\") # memasukan data string kedalam variable 'nim_31'\n",
    "tahunini = input(\"tahun berapakah sekarang?\", ) # memasukan data kedalam variable 'tahunini'\n",
    "tahunlahir = input(\"tahun berapa kamu lahir?\") # memasukan data kedalam variable 'tahunlahir'\n",
    "umur_31 = int(tahunini) + int(tahunlahir) # memasukan jumlah tipe data integer 'tahunini' dan 'tahunlahir' kedalam variable 'umur_31'\n",
    "\n",
    "print(\"Namamu adalah \" + nama_31)\n",
    "print(\"NIM mu adalah \" + nim_31)\n",
    "print(\"Umurmu adalah \" + str(umur_31))\n",
    "# print mengeluarkan output tipe data string yang diinputkan"
   ]
  },
  {
   "cell_type": "code",
   "execution_count": 4,
   "id": "d4a1e13a",
   "metadata": {},
   "outputs": [
    {
     "name": "stdout",
     "output_type": "stream",
     "text": [
      "ada berapa banyak uang Rp100.000 anda?1\n",
      "ada berapa banyak uang Rp50.000 anda?2\n",
      "ada berapa banyak uang Rp20.000 anda?3\n",
      "ada berapa banyak uang Rp10.000 anda?4\n",
      "ada berapa banyak uang Rp5.000 anda?5\n",
      "ada berapa banyak uang Rp2.000 anda?6\n",
      "Jadi, jumlah uang anda adalah 337000\n"
     ]
    }
   ],
   "source": [
    "#####################################\n",
    "# Tentang Input dan Tipe Data Integer\n",
    "# Menghitung uang di dompet\n",
    "#####################################\n",
    "\n",
    "uang100 = input(\"ada berapa banyak uang Rp100.000 anda?\")\n",
    "uang50  = input(\"ada berapa banyak uang Rp50.000 anda?\")\n",
    "uang20  = input(\"ada berapa banyak uang Rp20.000 anda?\")\n",
    "uang10  = input(\"ada berapa banyak uang Rp10.000 anda?\")\n",
    "uang5   = input(\"ada berapa banyak uang Rp5.000 anda?\")\n",
    "uang2   = input(\"ada berapa banyak uang Rp2.000 anda?\")\n",
    "# memasukan data kedalam variable 'uang100' , 'uang50' , 'uang20' , 'uang10' , 'uang5' , 'uang2' sesuai keterangan tipe data string\n",
    "\n",
    "\n",
    "jumlah100 = int(uang100) * 100000\n",
    "jumlah50  = int(uang50) * 50000\n",
    "jumlah20  = int(uang20) * 20000\n",
    "jumlah10  = int(uang10) * 10000\n",
    "jumlah5   = int(uang5)  * 5000\n",
    "jumlah2   = int(uang2)  * 2000\n",
    "# sistem mengoperasikan tipe data integer variable 'uang100' , 'uang50' , 'uang20' , 'uang10' , 'uang5' , 'uang2' sesuai dengan keterangan operator\n",
    "\n",
    "jumlahtotal = int(jumlah100) + int(jumlah50) + int(jumlah20) + int(jumlah10) + int(jumlah5) + int(jumlah2)\n",
    "# variable 'jumlahtotal' menjumlahkan seluruh tipe data 'jumlah100' , 'jumlah50' , 'jumlah20' , 'jumlah10' , 'jumlah5' , 'jumlah2'\n",
    "\n",
    "print(\"Jadi, jumlah uang anda adalah \" + str(jumlahtotal) )\n",
    "# print mengeluarkan output tipe data string yang diinputkan\n"
   ]
  },
  {
   "cell_type": "code",
   "execution_count": null,
   "id": "aa8ce1c0",
   "metadata": {},
   "outputs": [],
   "source": []
  }
 ],
 "metadata": {
  "kernelspec": {
   "display_name": "Python 3 (ipykernel)",
   "language": "python",
   "name": "python3"
  },
  "language_info": {
   "codemirror_mode": {
    "name": "ipython",
    "version": 3
   },
   "file_extension": ".py",
   "mimetype": "text/x-python",
   "name": "python",
   "nbconvert_exporter": "python",
   "pygments_lexer": "ipython3",
   "version": "3.9.13"
  }
 },
 "nbformat": 4,
 "nbformat_minor": 5
}
