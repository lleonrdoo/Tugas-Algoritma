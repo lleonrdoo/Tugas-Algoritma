{
 "cells": [
  {
   "cell_type": "markdown",
   "id": "305c092c",
   "metadata": {},
   "source": [
    "# 5.1 Print"
   ]
  },
  {
   "cell_type": "markdown",
   "id": "f8d6de31",
   "metadata": {},
   "source": [
    "## contoh print "
   ]
  },
  {
   "cell_type": "code",
   "execution_count": 1,
   "id": "a08eba1b",
   "metadata": {},
   "outputs": [
    {
     "name": "stdout",
     "output_type": "stream",
     "text": [
      "Nama saya adalah Leonardo Edbert Theodora\n",
      "Ini adalah pengalaman pertama saya menggunakan python\n",
      "Dan untuk sekarang terlihat tidak sesulit C++\n"
     ]
    }
   ],
   "source": [
    "##############################\n",
    "# Tentang Print (1)\n",
    "#############################\n",
    "\n",
    "\n",
    "print (\"Nama saya adalah Leonardo Edbert Theodora\")\n",
    "print (\"Ini adalah pengalaman pertama saya menggunakan python\")\n",
    "print (\"Dan untuk sekarang terlihat tidak sesulit C++\")\n",
    "# Tipe data string yang diinput kedalam 'print' akan menghasilkan output sama seperti data string yang diinputkan"
   ]
  },
  {
   "cell_type": "code",
   "execution_count": 2,
   "id": "5536c633",
   "metadata": {},
   "outputs": [
    {
     "name": "stdout",
     "output_type": "stream",
     "text": [
      "Python adalah salah satu bahasa pemrograman\n",
      "Python dapat diupload kedalam github\n",
      "Diupload pada repository Github \n"
     ]
    }
   ],
   "source": [
    "##########################\n",
    "# Tentang print (2)\n",
    "##########################\n",
    "\n",
    "print (\"Python adalah salah satu bahasa pemrograman\")\n",
    "print (\"Python dapat diupload kedalam github\")\n",
    "print (\"Diupload pada repository Github \")\n",
    "# Tipe data string yang diinput kedalam 'print' akan menghasilkan output sama dengan data string yang diinputkan"
   ]
  },
  {
   "cell_type": "markdown",
   "id": "f0c2d540",
   "metadata": {},
   "source": [
    "# 5.2 Input"
   ]
  },
  {
   "cell_type": "markdown",
   "id": "5f6faf7f",
   "metadata": {},
   "source": [
    "## contoh input"
   ]
  },
  {
   "cell_type": "code",
   "execution_count": 3,
   "id": "78f3038f",
   "metadata": {},
   "outputs": [
    {
     "name": "stdout",
     "output_type": "stream",
     "text": [
      "siapa namamu?Leonardo \n",
      "nim berapa di kelas?A\n",
      "tahun berapakah sekarang?2023\n",
      "tahun berapa kamu lahir?2004\n",
      "Namamu adalah Leonardo \n",
      "NIM mu adalah A\n",
      "Umurmu adalah 19\n"
     ]
    }
   ],
   "source": [
    "##############################\n",
    "# Tentang Input (1)\n",
    "# Data pribadi\n",
    "##############################\n",
    "\n",
    "nama_31 = input(\"siapa namamu?\") # memasukan data string kedalam variable 'nama_31'\n",
    "nim_31 = input(\"nim berapa di kelas?\") # memasukan data string kedalam variable 'nim_31'\n",
    "tahunini = input(\"tahun berapakah sekarang?\", ) # memasukan data kedalam variable 'tahunini'\n",
    "tahunlahir = input(\"tahun berapa kamu lahir?\") # memasukan data kedalam variable 'tahunlahir'\n",
    "umur_31 = int(tahunini) - int(tahunlahir) # memasukan jumlah tipe data integer 'tahunini' dan 'tahunlahir' kedalam variable 'umur_31'\n",
    "\n",
    "print(\"Namamu adalah \" + nama_31)\n",
    "print(\"NIM mu adalah \" + nim_31)\n",
    "print(\"Umurmu adalah \" + str(umur_31))\n",
    "# print mengeluarkan output tipe data string yang diinputkan"
   ]
  },
  {
   "cell_type": "code",
   "execution_count": 13,
   "id": "aa8ce1c0",
   "metadata": {},
   "outputs": [
    {
     "name": "stdout",
     "output_type": "stream",
     "text": [
      "Masukkanlah gradien garis jika diketahui : 1\n",
      "Masukkanlah nilai x1 garis : 2\n",
      "Masukkanlah nilai y1 garis : 3\n",
      "Masukkanlah nilai x2 garis jika diketahui : 4\n",
      "Masukkanlah nilai y2 garis jika diketahui : 5\n",
      "Jika diketahui (x1,y1) dan gradien garis, maka persamaannya adalah y-2=1(x-3)\n",
      "Jika diketahui (x1,y1) dan (x2,y2), maka persamaanya adalah y-2/4-2=x-3/5-3\n"
     ]
    }
   ],
   "source": [
    "####################################\n",
    "# Tentang Input (2)\n",
    "# Mencari persamaan garis jika diketahui nilai (x1,y1) dan graidennya ataupun nilai (x1,y1) dan (x2,y2)\n",
    "###################################\n",
    "\n",
    "gradien_31 = (input(\"Masukkanlah gradien garis jika diketahui : \"))\n",
    "\n",
    "nilaiy_31 = (input(\"Masukkanlah nilai x1 garis : \"))\n",
    "nilaix_31 = (input(\"Masukkanlah nilai y1 garis : \"))\n",
    "\n",
    "nilaiy2_31 = (input(\"Masukkanlah nilai x2 garis jika diketahui : \"))\n",
    "nilaix2_31 = (input(\"Masukkanlah nilai y2 garis jika diketahui : \"))\n",
    "\n",
    "print(\"Jika diketahui (x1,y1) dan gradien garis, maka persamaannya adalah \" + \"y-\" + str(nilaiy_31) + \"=\" + gradien_31 + \"(x-\" + str(nilaix_31) + \")\")\n",
    "# Pada perintah print dapat dimasukkan nilai string dari beberapa variable untuk membentuk persamaan garis\n",
    "\n",
    "print(\"Jika diketahui (x1,y1) dan (x2,y2), maka persamaanya adalah \" + \"y-\" + str(nilaiy_31) + \"/\" + str(nilaiy2_31) + \"-\" + str(nilaiy_31) + \"=\" + \"x-\" + str(nilaix_31) + \"/\" + str(nilaix2_31) + \"-\" + str(nilaix_31))\n",
    "# Sama dengan pernyataan diatas, pada perintah print dapat dimasukkan nilai string dari beberapa variable untuk membentuk persamaan garis"
   ]
  },
  {
   "cell_type": "markdown",
   "id": "92371b9c",
   "metadata": {},
   "source": [
    "# 5.3 Tipe Data Integer"
   ]
  },
  {
   "cell_type": "markdown",
   "id": "de597b2f",
   "metadata": {},
   "source": [
    "## contoh tipe data integer "
   ]
  },
  {
   "cell_type": "code",
   "execution_count": 6,
   "id": "8758e6fd",
   "metadata": {},
   "outputs": [
    {
     "name": "stdout",
     "output_type": "stream",
     "text": [
      "Masukkan nilai kelompok matkul Kalkulus II :90\n",
      "Masukkan nilai keaktifan matkul Kalkulus II :80\n",
      "Masukkan nilai individu matkul Kalkulus II :90\n",
      "Masukkan nilai quis matkul Kalkulus II :80\n",
      "Masukkan nilai uts matkul Kalkulus II :90\n",
      "Masukkan nilai uas matkul Kalkulus II :80\n",
      "Jadi, nilai akhir anda adalah 85.0\n"
     ]
    }
   ],
   "source": [
    "############################\n",
    "# Tentang Tipe Data Integer (1)\n",
    "# Mencari nilai akhir Kalkulus II\n",
    "############################\n",
    "\n",
    "nilaikelompok     = input(\"Masukkan nilai kelompok matkul Kalkulus II :\")\n",
    "nilaikeaktifan    = input (\"Masukkan nilai keaktifan matkul Kalkulus II :\")\n",
    "nilaitugasindividu = input (\"Masukkan nilai individu matkul Kalkulus II :\")\n",
    "nilaiquis          = input (\"Masukkan nilai quis matkul Kalkulus II :\")\n",
    "nilaiuts           = input (\"Masukkan nilai uts matkul Kalkulus II :\")\n",
    "nilaiuas           = input (\"Masukkan nilai uas matkul Kalkulus II :\")\n",
    "# Input merupakan platform yang dapat berguna untuk memasukan data string\n",
    "\n",
    "nilaiklmpk    = int(nilaikelompok) * (10/100)\n",
    "nilaikftfn    = int(nilaikeaktifan) * (10/100)\n",
    "nilaitgsindi  = int(nilaitugasindividu) * (15/100)\n",
    "nilaiqs       = int(nilaiquis) * (15/100)\n",
    "nilaits       = int(nilaiuts) * (25/100)\n",
    "nilaias       = int(nilaiuas) * (25/100)\n",
    "# Hasil dari input akan dimasukan kedalam fungsi pembobotan dari masing-masing nilai dengan tipe data integer\n",
    "\n",
    "nilaiakhir_31 = (nilaiklmpk + nilaikftfn + nilaitgsindi + nilaiqs + nilaits + nilaias)\n",
    "print(\"Jadi, nilai akhir anda adalah \" + str(nilaiakhir_31))\n",
    "# Didapatkan hasil dari nilai akhir dari fungsi penjumlahan 'nilai akhir'\n"
   ]
  },
  {
   "cell_type": "code",
   "execution_count": 9,
   "id": "d4a1e13a",
   "metadata": {},
   "outputs": [
    {
     "name": "stdout",
     "output_type": "stream",
     "text": [
      "ada berapa banyak uang Rp100.000 anda?2\n",
      "ada berapa banyak uang Rp50.000 anda?3\n",
      "ada berapa banyak uang Rp20.000 anda?45\n",
      "ada berapa banyak uang Rp10.000 anda?3\n",
      "ada berapa banyak uang Rp5.000 anda?1\n",
      "ada berapa banyak uang Rp2.000 anda?2\n",
      "Jadi, jumlah uang anda adalah 1289000\n"
     ]
    }
   ],
   "source": [
    "################## \n",
    "# Tipe Data Integer (2)\n",
    "# Menghitung uang di dompet\n",
    "#####################################\n",
    "uang100 = input(\"ada berapa banyak uang Rp100.000 anda?\")\n",
    "uang50  = input(\"ada berapa banyak uang Rp50.000 anda?\")\n",
    "uang20  = input(\"ada berapa banyak uang Rp20.000 anda?\")\n",
    "uang10  = input(\"ada berapa banyak uang Rp10.000 anda?\")\n",
    "uang5   = input(\"ada berapa banyak uang Rp5.000 anda?\")\n",
    "uang2   = input(\"ada berapa banyak uang Rp2.000 anda?\")\n",
    "# memasukan data kedalam variable 'uang100' , 'uang50' , 'uang20' , 'uang10' , 'uang5' , 'uang2' sesuai keterangan tipe data string\n",
    "\n",
    "\n",
    "jumlah100 = int(uang100) * 100000\n",
    "jumlah50  = int(uang50) * 50000\n",
    "jumlah20  = int(uang20) * 20000\n",
    "jumlah10  = int(uang10) * 10000\n",
    "jumlah5   = int(uang5)  * 5000\n",
    "jumlah2   = int(uang2)  * 2000\n",
    "# sistem mengoperasikan tipe data integer variable 'uang100' , 'uang50' , 'uang20' , 'uang10' , 'uang5' , 'uang2' sesuai dengan keterangan operator\n",
    "\n",
    "jumlahtotal_31 = int(jumlah100) + int(jumlah50) + int(jumlah20) + int(jumlah10) + int(jumlah5) + int(jumlah2)\n",
    "# variable 'jumlahtotal' menjumlahkan seluruh tipe data 'jumlah100' , 'jumlah50' , 'jumlah20' , 'jumlah10' , 'jumlah5' , 'jumlah2'\n",
    "\n",
    "print(\"Jadi, jumlah uang anda adalah \" + str(jumlahtotal_31) )\n",
    "# print mengeluarkan output tipe data string yang diinputkan\n"
   ]
  },
  {
   "cell_type": "markdown",
   "id": "fcb898e6",
   "metadata": {},
   "source": [
    "# 5.4 Formatted Strings"
   ]
  },
  {
   "cell_type": "markdown",
   "id": "02314dd9",
   "metadata": {},
   "source": [
    "# # contoh formatted strings"
   ]
  },
  {
   "cell_type": "code",
   "execution_count": 7,
   "id": "2b6fea08",
   "metadata": {},
   "outputs": [
    {
     "name": "stdout",
     "output_type": "stream",
     "text": [
      "Leonardo berasal dari Banten yang berkuliah di Universitas Udayana\n"
     ]
    }
   ],
   "source": [
    "#############################\n",
    "# Tentang Formartted Strings\n",
    "###########################\n",
    "\n",
    "nama_31 = \"Leonardo\"\n",
    "asal_31 = \"Banten\"\n",
    "kuliah_31 = \"Universitas Udayana\"\n",
    "print ( nama_31 + \" berasal dari \" + asal_31 + \" yang berkuliah di \" + kuliah_31 )\n",
    "# Print pada syntax awal merupakan bentuk awal dari print dan akan menjadi patokan untuk formatted string pada syntax kedua"
   ]
  },
  {
   "cell_type": "code",
   "execution_count": 8,
   "id": "08a352bb",
   "metadata": {},
   "outputs": [
    {
     "name": "stdout",
     "output_type": "stream",
     "text": [
      "Leonardo berasal dari Banten yang berkuliah di Universitas Udayana\n"
     ]
    }
   ],
   "source": [
    "print(f'{nama_31} berasal dari {asal_31} yang berkuliah di {kuliah_31}')\n",
    "# Penggunaan 'f' merupakan bentuk dari fungsi yang berguna untuk mengeluarkan output dari variable didalam {} dan mempermudah perintah string"
   ]
  }
 ],
 "metadata": {
  "kernelspec": {
   "display_name": "Python 3 (ipykernel)",
   "language": "python",
   "name": "python3"
  },
  "language_info": {
   "codemirror_mode": {
    "name": "ipython",
    "version": 3
   },
   "file_extension": ".py",
   "mimetype": "text/x-python",
   "name": "python",
   "nbconvert_exporter": "python",
   "pygments_lexer": "ipython3",
   "version": "3.9.13"
  }
 },
 "nbformat": 4,
 "nbformat_minor": 5
}
