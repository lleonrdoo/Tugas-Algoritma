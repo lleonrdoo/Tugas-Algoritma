{
 "cells": [
  {
   "cell_type": "markdown",
   "id": "e5b8550c",
   "metadata": {},
   "source": [
    "# 5.5 Strings Index"
   ]
  },
  {
   "cell_type": "code",
   "execution_count": 1,
   "id": "d9618ca4",
   "metadata": {},
   "outputs": [
    {
     "name": "stdout",
     "output_type": "stream",
     "text": [
      "saya merupakan mahasiswa yang\n",
      "mendapatkan pembelajaran matematika \n",
      "pada  kelas\n",
      "di\n",
      "lab universitas\n"
     ]
    }
   ],
   "source": [
    "###################################\n",
    "# Tentang Strings Index(1)\n",
    "# Cara membuat urutan kalimat baru dengan strings index\n",
    "###################################\n",
    "\n",
    "# berikut adalah inisialisasi variable 'teks' , 'kelas' , 'titik' yang memuat data strings\n",
    "# variable 'teks', 'kelas', 'titik' memuat data strings\n",
    "teks = \"saya mendapatkan kelas di lab\"\n",
    "kelas = \"mahasiswa suatu individu yang belajar di universitas\"\n",
    "titik = \"gf merupakan gedung pada prodi matematika yang digunakan untuk pembelajaran\"\n",
    "\n",
    "# data strings memiliki index yang dapat dihitung banyaknya , sebagai berikut :\n",
    "# teks = \"saya(4) mendapatkan(11) kelas(5) di(2) lab(3)\"\n",
    "# kelas = \"mahasiswa(9) suatu(5) individu(8) yang(4) belajar(7) di(2) universitas(11)\"\n",
    "# titik = \"gf(2) merupakan(9) gedung(6) pada(4) prodi(5) matematika(10) yang(4) digunakan(9) untuk(5) pembelajaran(12)\"\n",
    "\n",
    "# perintah print mengeluarkan output index strings dari variable\n",
    "# strings index menujukan urutan data strings yang dimaksud\n",
    "print(teks[0:4] + \" \" + titik[3:12] + \" \" +  kelas[0:9] + \" \" + kelas[-27:-23])\n",
    "print(teks[5:16] + \" \" + titik[-12:] + \" \" + titik[-44:-33] )\n",
    "print(titik[20:25] + \" \" + teks[17:22])\n",
    "print(teks[23:25])\n",
    "print(teks[26:29] + \" \" + kelas[-11:])\n",
    "\n",
    "#@@@@@@@@@@@@@@@@@@@@@@@@@@@@@@@@\n",
    "# perlu diperhatikan, kita tidak boleh lupa dengan '+' serta '\" \"' agar kalimat yang keluar dapat terbaca jelas dan beraturan\n",
    "#@@@@@@@@@@@@@@@@@@@@@@@@@@@@@@@@"
   ]
  },
  {
   "cell_type": "code",
   "execution_count": 20,
   "id": "1000b1e5",
   "metadata": {},
   "outputs": [
    {
     "name": "stdout",
     "output_type": "stream",
     "text": [
      "Akan dibentuk matrix dengan ordo 3x3\n",
      "x11 x12 x13\n",
      "x21 x22 x23\n",
      "x31 x32 x33\n"
     ]
    }
   ],
   "source": [
    "###################################\n",
    "# Tentang Strings Index(2)\n",
    "# Cara membuat matrix dengan strings index\n",
    "###################################\n",
    "\n",
    "# berikut adalah inisialisasi variable 'baris' & 'kolom' yang memuat data string\n",
    "baris = \"x1 x2 x3\"\n",
    "kolom = \"1 2 3\"\n",
    "\n",
    "# data strings yang dimuat memiliki index yang dapat dihintung , sebagai berikut :\n",
    "# baris = \"x1(2) x2(2) x3(2)\"\n",
    "# kolom = \"1(1) 2(1) 3(1)\"\n",
    "\n",
    "# perintah print mengeluarkan output index strings dari variable\n",
    "# strings index menunjukan urutan data strings yang dimaksud\n",
    "print(\"Akan dibentuk matrix dengan ordo 3x3\")\n",
    "print(baris[0:2] + kolom[0:1] + \" \" + baris[0:2] + kolom[2:3] + \" \" + baris[0:2] + kolom[-1:])\n",
    "print(baris[3:5] + kolom[0:1] + \" \" + baris[3:5] + kolom[2:3] + \" \" + baris[3:5] + kolom[-1:])\n",
    "print(baris[6:8] + kolom[0:1] + \" \" + baris[6:8] + kolom[2:3] + \" \" + baris[6:8] + kolom[-1:])\n",
    "\n",
    "#@@@@@@@@@@@@@@@@@@@@@@@@@@@@@@@@\n",
    "# dapat dilihat bahwa dalam membuat suatu matriks , terdapat pola yang terbentuk\n",
    "# pola tersebut adalah baris 1 dan seterusnya akan memiliki index strings yang sama pada kolom 1 dan seterusnya\n",
    "# lalu, terdapat pula pola pada kolom 1 dan seterusnya, dimana index strings yang keluar akan sama\n",
    "#@@@@@@@@@@@@@@@@@@@@@@@@@@@@@@@@"
   ]
  },
  {
   "cell_type": "markdown",
   "id": "aaabc20a",
   "metadata": {},
   "source": [
    "# "
   ]
  },
  {
   "cell_type": "markdown",
   "id": "ae3deaa9",
   "metadata": {},
   "source": [
    "# "
   ]
  },
  {
   "cell_type": "markdown",
   "id": "e6bfee79",
   "metadata": {},
   "source": [
    "# 5.6 Strings Methods "
   ]
  },
  {
   "cell_type": "code",
   "execution_count": 3,
   "id": "e8ee1a68",
   "metadata": {},
   "outputs": [
    {
     "name": "stdout",
     "output_type": "stream",
     "text": [
      "25\n"
     ]
    }
   ],
   "source": [
    "###################################\n",
    "# Tentang Strings Methods\n",
    "###################################\n",
    "\n",
    "# Pengenalan fungsi len()\n",
    "\n",
    "# berikut adalah inisialisati variable 'teks1' yang memuat data strings\n",
    "teks1 = \"matematika sangat seru ya\"\n",
    "\n",
    "# data strings memiliki jumlah index tertentu \n",
    "# fungsi 'len' pada perintah print akan menghitung jumlah index dari variable 'teks1' yang dimasukan \n",
    "print(len(teks1))"
   ]
  },
  {
   "cell_type": "code",
   "execution_count": 4,
   "id": "a618e4c3",
   "metadata": {},
   "outputs": [
    {
     "data": {
      "text/plain": [
       "'MATEMATIKA SANGAT SERU YA'"
      ]
     },
     "execution_count": 4,
     "metadata": {},
     "output_type": "execute_result"
    }
   ],
   "source": [
    "# Pengenalan fungsi upper()\n",
    "# fungsi 'upper()' digunakan untuk mengubah setiap data strings yang dimasukkan menjadi huruf kapital\n",
    "teks1.upper()"
   ]
  },
  {
   "cell_type": "code",
   "execution_count": 5,
   "id": "4de65572",
   "metadata": {},
   "outputs": [
    {
     "data": {
      "text/plain": [
       "'matematika sangat seru ya'"
      ]
     },
     "execution_count": 5,
     "metadata": {},
     "output_type": "execute_result"
    }
   ],
   "source": [
    "# Pengenalan fungsi lower()\n",
    "# fungsi 'lower()' digunakan untuk mengubah setiap data strings yang dimasukkan menjadi huruf kecil\n",
    "teks1.lower()"
   ]
  },
  {
   "cell_type": "code",
   "execution_count": 6,
   "id": "02825c8d",
   "metadata": {},
   "outputs": [
    {
     "data": {
      "text/plain": [
       "12"
      ]
     },
     "execution_count": 6,
     "metadata": {},
     "output_type": "execute_result"
    }
   ],
   "source": [
    "# Pengenalan fungsi find(\"\")\n",
    "# fungsi 'find(\"\")' digunakan untuk mencari banyaknya index data strings yang diminta pengguna pada '()' fungsi find\n",
    "teks1.find(\"ang\")"
   ]
  },
  {
   "cell_type": "code",
   "execution_count": 7,
   "id": "84abfbfa",
   "metadata": {},
   "outputs": [
    {
     "data": {
      "text/plain": [
       "-1"
      ]
     },
     "execution_count": 7,
     "metadata": {},
     "output_type": "execute_result"
    }
   ],
   "source": [
    "# Pengenalan fungsi fing(\"\") yang memiliki kesalahan\n",
    "# berikut adalah contoh kesalahan pada fungsi 'find'\n",
    "teks1.find(\"Seru Ya\")"
   ]
  },
  {
   "cell_type": "markdown",
   "id": "b23aa3f6",
   "metadata": {},
   "source": [
    "#### karena tidak ada data strings 'Seru' dan 'Ya' pada variable 'teks1' , maka perintah find akan mengeluarkan index -1 . '-1' akan selalu keluar jika data strings yang dimasukan pada fungsi find tidak sesuai dengan yang berada pada variable nya"
   ]
  },
  {
   "cell_type": "markdown",
   "id": "ff722319",
   "metadata": {},
   "source": [
    "# "
   ]
  },
  {
   "cell_type": "code",
   "execution_count": 8,
   "id": "1330c197",
   "metadata": {},
   "outputs": [
    {
     "data": {
      "text/plain": [
       "'sejarah sangat seru ya'"
      ]
     },
     "execution_count": 8,
     "metadata": {},
     "output_type": "execute_result"
    }
   ],
   "source": [
    "# Pengenalan fungsi replace(\"\" , \"\")\n",
    "# fungsi 'replace(\"\" , \"\")' digunakan untuk mengganti data strings pada variable\n",
    "# \"\" yang awal adalah data strings pada variable\n",
    "# \"\" setelah koma adalah data strings yang akan mengubah data sebelumnya\n",
    "teks1.replace(\"matematika\" , \"sejarah\")"
   ]
  },
  {
   "cell_type": "code",
   "execution_count": 9,
   "id": "5881eaec",
   "metadata": {},
   "outputs": [
    {
     "data": {
      "text/plain": [
       "'matematika sangat seru ya'"
      ]
     },
     "execution_count": 9,
     "metadata": {},
     "output_type": "execute_result"
    }
   ],
   "source": [
    "# Pengenalan fungsi replace(\"\" , \"\") yang memiliki kesalahan\n",
    "# berikut adalah contoh kesalahan pada fungsi 'replace(\"\" , \"\")'\n",
    "teks1.replace(\"Matematika\" , \"sejarah\")"
   ]
  },
  {
   "cell_type": "markdown",
   "id": "9817788e",
   "metadata": {},
   "source": [
    "#### karena tidak terdapat data strings 'M' pada data strings 'matematika' , maka perintah replace tidak terlaksana . Dan selanjutnya pun akan demikian, jika data strings pada \" \" awal tidak sesuai pada variable , maka perintah tidak terlaksana."
   ]
  },
  {
   "cell_type": "markdown",
   "id": "9c198e80",
   "metadata": {},
   "source": [
    "# "
   ]
  },
  {
   "cell_type": "code",
   "execution_count": 10,
   "id": "8617a013",
   "metadata": {},
   "outputs": [
    {
     "name": "stdout",
     "output_type": "stream",
     "text": [
      "True\n"
     ]
    }
   ],
   "source": [
    "# Pengenalan fungsi in\n",
    "# fungsi 'in' akan menentukan ada atau tidaknya suatu data strings pada variable\n",
    "# fungsi ini menggunakan tipe data boolean dengan output True atau False\n",
    "# True menunjukan bahwa data strings yang dimaksud terdapat didalam variable\n",
    "# False menunjukan bahwa data strings yang dimaksud tidak terdapat didalam variable\n",
    "print(\"matematika\" in teks1)"
   ]
  },
  {
   "cell_type": "code",
   "execution_count": 11,
   "id": "b348a3b7",
   "metadata": {},
   "outputs": [
    {
     "name": "stdout",
     "output_type": "stream",
     "text": [
      "False\n"
     ]
    }
   ],
   "source": [
    "print(\"Matematika\" in teks1)"
   ]
  },
  {
   "cell_type": "markdown",
   "id": "8507ec3a",
   "metadata": {},
   "source": [
    "#### karena tidak terdapat data strings  'Matematika' pada variable teks1, maka perintah print akan menghasilkan output print 'False'  . Dan selanjutnya pun akan demikian, jika data strings tidak sesuai dengan yang berada pada variable, maka fungsi akan mengeluarkan output 'False'."
   ]
  },
  {
   "cell_type": "markdown",
   "id": "135a0a29",
   "metadata": {},
   "source": [
    "# "
   ]
  },
  {
   "cell_type": "markdown",
   "id": "c25452cb",
   "metadata": {},
   "source": [
    "# "
   ]
  },
  {
   "cell_type": "markdown",
   "id": "ccd94c73",
   "metadata": {},
   "source": [
    "# 5.7 Operasi Matematika"
   ]
  },
  {
   "cell_type": "code",
   "execution_count": 12,
   "id": "8d4b5bd8",
   "metadata": {},
   "outputs": [
    {
     "name": "stdout",
     "output_type": "stream",
     "text": [
      "Operasi penjumlahan '+' sama dengan penjumlahan pada umumnya \n",
      "coba, masukkan angka pertama yang akan dijumlahkan : 5\n",
      "lalu, masukkan angka kedua yang akan dijumlahkan : 4\n",
      "Maka , hasil penjumlahannya adalah  9.0\n"
     ]
    }
   ],
   "source": [
    "###################################\n",
    "# Pengenalan Operasi Matematika yang Berada di Python\n",
    "###################################\n",
    "\n",
    "# (1) Operasi penjumlahan '+'\n",
    "print(\"Operasi penjumlahan '+' sama dengan penjumlahan pada umumnya \")\n",
    "angka1_31 = float(input(\"coba, masukkan angka pertama yang akan dijumlahkan : \"))\n",
    "angka2_31 = float(input(\"lalu, masukkan angka kedua yang akan dijumlahkan : \"))\n",
    "angkajumlah = angka1_31 + angka2_31\n",
    "print(\"Maka , hasil penjumlahannya adalah \" , str(angkajumlah))\n"
   ]
  },
  {
   "cell_type": "code",
   "execution_count": 13,
   "id": "f313409d",
   "metadata": {},
   "outputs": [
    {
     "name": "stdout",
     "output_type": "stream",
     "text": [
      "Sama seperti penjumlahan '+', operasi pengurangan '-' sama dengan pengurangan pada umumnya \n",
      "masukan angka yang akan dikurangkan : 6\n",
      "masukan angka yang akan mengurangkan : 7\n",
      "Maka , hasil pengurangannya adalah  -1.0\n"
     ]
    }
   ],
   "source": [
    "# (2) Operasi pengurangan '-'\n",
    "print(\"Sama seperti penjumlahan '+', operasi pengurangan '-' sama dengan pengurangan pada umumnya \")\n",
    "angka3_31 = float(input(\"masukan angka yang akan dikurangkan : \"))\n",
    "angka4_31 = float(input(\"masukan angka yang akan mengurangkan : \"))\n",
    "angkakurang = angka3_31 - angka4_31\n",
    "print(\"Maka , hasil pengurangannya adalah \" , str(angkakurang))"
   ]
  },
  {
   "cell_type": "code",
   "execution_count": 14,
   "id": "faf7d042",
   "metadata": {},
   "outputs": [
    {
     "name": "stdout",
     "output_type": "stream",
     "text": [
      "Operasi perkalian '*' mempunyai simbol yang berbeda dengan simbol aslinya \n",
      "namun memiliki arti yang sama dengan operasi aslinya\n",
      "masukan angka yang akan dikalikan atau dibagi : 10\n",
      "masukan angka yang akan mengkalikan atau membagi : 2\n",
      "Maka , hasil kalinya adalah  20.0 dan hasil baginya adalah  5.0\n"
     ]
    }
   ],
   "source": [
    "# (3) Operasi perkalian '*' dan pembagian '/'\n",
    "print(\"Operasi perkalian '*' mempunyai simbol yang berbeda dengan simbol aslinya\" , \"\\nnamun memiliki arti yang sama dengan operasi aslinya\")\n",
    "angka5_31 = float(input(\"masukan angka yang akan dikalikan atau dibagi : \"))\n",
    "angka6_31 = float(input(\"masukan angka yang akan mengkalikan atau membagi : \"))\n",
    "angkakali = angka5_31 * angka6_31\n",
    "angkabagi = angka5_31 / angka6_31\n",
    "print(\"Maka , hasil kalinya adalah \" , angkakali , \"dan hasil baginya adalah \" , angkabagi)"
   ]
  },
  {
   "cell_type": "code",
   "execution_count": 15,
   "id": "6c08a87b",
   "metadata": {},
   "outputs": [
    {
     "name": "stdout",
     "output_type": "stream",
     "text": [
      "Operasi pembulatan pembagian '//' sama dengan operasi pembagian '/' pada operasi sebelumnya \n",
      "namun dengan hasil pembagian yang akan dibulatkan\n",
      "masukan angka yang akan dibagi : 10\n",
      "masukan angka yang akan membagi : 3\n",
      "Maka , hasil dari pembulatan pembagiannya adalah  3.0\n"
     ]
    }
   ],
   "source": [
    "# (4) Operasi pembulatan pembagian '//'\n",
    "print(\"Operasi pembulatan pembagian '//' sama dengan operasi pembagian '/' pada operasi sebelumnya\" , \"\\nnamun dengan hasil pembagian yang akan dibulatkan\")\n",
    "angka7_31 = float(input(\"masukan angka yang akan dibagi : \"))\n",
    "angka8_31 = float(input(\"masukan angka yang akan membagi : \"))\n",
    "angkapembulatan = angka7_31 // angka8_31\n",
    "print(\"Maka , hasil dari pembulatan pembagiannya adalah \" , angkapembulatan)"
   ]
  },
  {
   "cell_type": "code",
   "execution_count": 16,
   "id": "8ccba74e",
   "metadata": {},
   "outputs": [
    {
     "name": "stdout",
     "output_type": "stream",
     "text": [
      "Operasi modulo '%' sama dengan operasi modulo aslinya, dimana akan menghasilkan sisa dari pembagian \n",
      "masukan angka yang akan dibagi : 8\n",
      "masukan angka yang akan membagi : 4\n",
      "Maka , hasil modulonya adalah  0.0\n"
     ]
    }
   ],
   "source": [
    "# (5) Operasi modulo '%'\n",
    "print(\"Operasi modulo '%' sama dengan operasi modulo aslinya, dimana akan menghasilkan sisa dari pembagian \")\n",
    "angka9_31 = float(input(\"masukan angka yang akan dibagi : \"))\n",
    "angka10_31 = float(input(\"masukan angka yang akan membagi : \"))\n",
    "angkamodulo = angka9_31 % angka10_31\n",
    "print(\"Maka , hasil modulonya adalah \" , angkamodulo)"
   ]
  },
  {
   "cell_type": "code",
   "execution_count": 17,
   "id": "711d5773",
   "metadata": {},
   "outputs": [
    {
     "name": "stdout",
     "output_type": "stream",
     "text": [
      "Operasi pemangkatan '**' sama dengan operasi pemangkatan aslinya , hanya saja dengan simbol yang berbeda \n",
      "masukan angka yang akan dipangkatkan : 2\n",
      "masukan angka yang akan memangkatkan : 4\n",
      "Maka , hasil pemangkatannya adalah  16.0\n"
     ]
    }
   ],
   "source": [
    "# (6) Operasi pemangkatan '**'\n",
    "print(\"Operasi pemangkatan '**' sama dengan operasi pemangkatan aslinya , hanya saja dengan simbol yang berbeda \")\n",
    "angka11_31 = float(input(\"masukan angka yang akan dipangkatkan : \"))\n",
    "angka12_31 = float(input(\"masukan angka yang akan memangkatkan : \"))\n",
    "angkapangkat = angka11_31 ** angka12_31\n",
    "print(\"Maka , hasil pemangkatannya adalah \" , angkapangkat)"
   ]
  },
  {
   "cell_type": "code",
   "execution_count": 18,
   "id": "ccb10914",
   "metadata": {},
   "outputs": [
    {
     "name": "stdout",
     "output_type": "stream",
     "text": [
      "Operator augmented adalah operator yang melakukan operasi biner dan hasilnya dikembali ke variable yang dituju\n",
      "masukan angka pertama yang akan diuji dengan operator ini : 1\n",
      "masukan angka kedua yang akan diuji dengan operatori ini : 2\n",
      "\n",
      "Hasil dari operasi '+=' nya adalah  3.0\n",
      "\n",
      "Hasil dari operasi '-=' nya adalah  1.0\n",
      "\n",
      "Hasil dari operasi '*=' nya adalah  2.0\n",
      "\n",
      "Hasil dari operasi '\\=' nya adalah  1.0\n",
      "\n",
      "Hasil dari operasi '%=' nya adalah  1.0\n",
      "\n",
      "Hasil dari operasi '**=' nya adalah  1.0\n"
     ]
    }
   ],
   "source": [
    "# (7) Augmented Operator \n",
    "print(\"Operator augmented adalah operator yang melakukan operasi biner dan hasilnya dikembali ke variable yang dituju\")\n",
    "angka13_31 = float(input(\"masukan angka pertama yang akan diuji dengan operator ini : \"))\n",
    "angka14_31 = float(input(\"masukan angka kedua yang akan diuji dengan operatori ini : \"))\n",
    "\n",
    "# operasi '+=' menjumlahkan variable 'angka13_31' dan 'angka14_31' , lalu hasilnya akan dimasukkan kedalam variable 'angka13_31'\n",
    "angka13_31 += angka14_31\n",
    "print(\"\\nHasil dari operasi '+=' nya adalah \" , angka13_31)\n",
    "\n",
    "# operasi '-=' mengurangkan variable 'angka13_31' dan 'angka14_31' , lalu hasilnya akan dimasukkan kedalam variable 'angka13_31'\n",
    "angka13_31 -= angka14_31\n",
    "print(\"\\nHasil dari operasi '-=' nya adalah \" , angka13_31)\n",
    "\n",
    "# operasi '*=' mengalikan variable 'angka13_31' dan 'angka14_31' , lalu hasilnya akan dimasukkan kedalam variable 'angka13_31'\n",
    "angka13_31 *= angka14_31\n",
    "print(\"\\nHasil dari operasi '*=' nya adalah \" , angka13_31)\n",
    "\n",
    "# operasi '/=' membagi variable 'angka13_31' dan 'angka14_31' , lalu hasilnya akan dimasukkan kedalam variable 'angka13_31'\n",
    "angka13_31 /= angka14_31\n",
    "print(\"\\nHasil dari operasi '\\=' nya adalah \" , angka13_31)\n",
    "\n",
    "# operasi '%=' memasukan operasi modulo pada variable 'angka13_31' dan 'angka14_31' , lalu hasilnya akan dimasukkan kedalam variable 'angka13_31'\n",
    "angka13_31 %= angka14_31\n",
    "print(\"\\nHasil dari operasi '%=' nya adalah \" , angka13_31)\n",
    "\n",
    "# operasi '**=' memangkatkan variable 'angka13_31' dan 'angka14_31' , lalu hasilnya akan dimasukkan kedalam variable 'angka13_31'\n",
    "angka13_31 **= angka14_31\n",
    "print(\"\\nHasil dari operasi '**=' nya adalah \" , angka13_31)"
   ]
  },
  {
   "cell_type": "markdown",
   "id": "ed0b13f1",
   "metadata": {},
   "source": [
    "# "
   ]
  },
  {
   "cell_type": "markdown",
   "id": "d5c4f4e2",
   "metadata": {},
   "source": [
    "### Contoh aplikasi operasi matematika "
   ]
  },
  {
   "cell_type": "markdown",
   "id": "cfecff98",
   "metadata": {},
   "source": [
    "##### Diketahui seorang ibu akan membeli mangga di pasar sebanyak 30kg dengan harga sekilonya adalah Rp20.000 dan apel sebanyak 10kg dengan harga sekilonya adalah Rp22.000. Kerjakanlah soal berikut!"
   ]
  },
  {
   "cell_type": "code",
   "execution_count": 19,
   "id": "270d8355",
   "metadata": {},
   "outputs": [
    {
     "name": "stdout",
     "output_type": "stream",
     "text": [
      "masukan harga mangga per kg : 30\n",
      "masukan jumlah mangga dalam kg : 20000\n",
      "\n",
      "\n",
      "masukan harga apel per kg : 10\n",
      "masukan jumlah apel dalam kg : 22000\n",
      "\n",
      "Jadi, harga mangga yang harus dibayar ibu adalah Rp600000\n",
      "Jadi, harga apel yang harus dibayar ibu adalah Rp220000\n",
      "\n",
      "Jika ibu memiliki keluarga dengan jumlah anggota keluarganya : 5\n",
      "Maka masing-masing anggota keluarga akan mendapatkan apel sebanyak 4400.0 dan mangga sebanyak 4000.0\n"
     ]
    }
   ],
   "source": [
    "###################################\n",
    "# Tentang Operasi Matematika (1)\n",
    "# Menggunakan operasi '*' dan '/' untuk inisialisasi variable\n",
    "###################################\n",
    "\n",
    "\n",
    "# pertama, akan dimulai inisialisasi variable dengan fungsi 'input' \n",
    "hargamangga  = input(\"masukan harga mangga per kg : \")\n",
    "jumlahmangga = input(\"masukan jumlah mangga dalam kg : \")\n",
    "print(\"\\n\")\n",
    "hargaapel    = input(\"masukan harga apel per kg : \")\n",
    "jumlahapel   = input(\"masukan jumlah apel dalam kg : \")\n",
    "\n",
    "\n",
    "# kedua, variable yang sudah diinisialisasi akan dimasukan kedalam variable yang memiliki fungsi dengan operasi '*'\n",
    "# variable yang dimasukkan bertipe data integer agar dapat dioperasikan pada fungsi\n",
    "jumlahtotal1 = (int(hargamangga) * int(jumlahmangga))\n",
    "jumlahtotal2 = (int(hargaapel) * int(jumlahapel))\n",
    "\n",
    "\n",
    "# ketiga, variable yang memiliki fungsi operasi '*' akan dikeluarkan dengan tipe data strings pada perintah print\n",
    "print(\"\\nJadi, harga mangga yang harus dibayar ibu adalah Rp\" + str(jumlahtotal1))\n",
    "print(\"Jadi, harga apel yang harus dibayar ibu adalah Rp\" + str(jumlahtotal2) + \"\\n\")\n",
    "\n",
    "\n",
    "# keempat, terdapat pertanyaan pada fungsi 'input' untuk menginisialisasi variable 'keluarga'\n",
    "# lalu, terdapat variable 'apel1' dan 'mangga1' yang akan diinisialisasi dengan fungsi operasi '/'\n",
    "# terakhir, perintah print akan mengeluarkan data strings dan variable 'apel1' & 'mangga1' dengan tipe data strings\n",
    "keluarga = input(\"Jika ibu memiliki keluarga dengan jumlah anggota keluarganya : \" )\n",
    "apel1 = float(int(jumlahapel) / int(keluarga))\n",
    "mangga1 = float(int(jumlahmangga) / int(keluarga))\n",
    "print(\"Maka masing-masing anggota keluarga akan mendapatkan apel sebanyak \" + str(apel1) + \" dan mangga sebanyak \" + str(mangga1))"
   ]
  },
  {
   "cell_type": "markdown",
   "id": "262fae25",
   "metadata": {},
   "source": [
    "# "
   ]
  },
  {
   "cell_type": "markdown",
   "id": "36f70925",
   "metadata": {},
   "source": [
    "#### Mencari ukuran suhu reamur , fahrenheit , dan kelvin jika diketahui ukuran suhu celciusnya "
   ]
  },
  {
   "cell_type": "code",
   "execution_count": null,
   "id": "9a51a81e",
   "metadata": {},
   "outputs": [],
   "source": [
    "###################################\n",
    "# Tentang Operasi Matematika (2)\n",
    "# Menggunakan fungsi '+' , '/' , dan '*' untuk inisialisasi variable\n",
    "###################################\n",
    "\n",
    "# inisialisasi variable dengan perintah input yang memasukkan data float\n",
    "derajat1_31 = float(input(\"Masukan derajat celcius yang anda ingin ketahui : \" ))\n",
    "\n",
    "# inisialisasi variable dengan fungsi operasi matematika\n",
    "# operasi yang digunakan adalah '+' , '/' , dan '*'\n",
    "reamur1_31 = (4/5) * derajat1_31\n",
    "fahrenheit1_31 = (9/5 * derajat1_31) + 32\n",
    "kelvin1_31 = derajat1_31 + 273\n",
    "\n",
    "# variable yang sudah diinisialisasi akan dimasukkan kedalam perintah print bersamaan dengan data strings\n",
    "print(\"Maka derajat reamurnya adalah : \" , reamur1_31 , \" R\")\n",
    "print(\"Maka derajat fahrenheitnya adalah : \" , fahrenheit1_31 , \" f\") \n",
    "print(\"Maka derajat kelvinnya adalah : \" , kelvin1_31 , \" k\")\n",
    "                    "
   ]
  },
  {
   "cell_type": "markdown",
   "id": "3a56c06a",
   "metadata": {},
   "source": [
    "# "
   ]
  },
  {
   "cell_type": "markdown",
   "id": "0bca84be",
   "metadata": {},
   "source": [
    "# "
   ]
  },
  {
   "cell_type": "markdown",
   "id": "14eaab8f",
   "metadata": {},
   "source": [
    "# 5.8 Operasi Perbandingan"
   ]
  },
  {
   "cell_type": "code",
   "execution_count": null,
   "id": "67b445f0",
   "metadata": {},
   "outputs": [],
   "source": [
    "#########################################\n",
    "# Tentang Operasi Perbandingan\n",
    "# Pengertian tentang operator perbandingan python\n",
    "#########################################\n",
    "\n",
    "# inisialisasi varible bertipe data float dengan perintah input\n",
    "a1_31 = float(input(\"Masukan sebuah bilangan pada variable A : \"))\n",
    "b1_31 = float(input(\"Masukan sebuah bilangan pada variable B : \"))\n",
    "\n",
    "# fungsi operasi perbandingan dengan operator '<' dan '>'\n",
    "# inisialisasi variable 'x' dan 'x2' menggunakan operator perbandingan diatas \n",
    "# variable akan bertipe data boolean karena operasi perbandingan pada fungsi\n",
    "x = a1_31 < b1_31\n",
    "x2 = a1_31 > b1_31\n",
    "print(\"\\nJika terdapat perbandingan A < B , maka pernyataan bernilai : \" , x )\n",
    "print(\"Jika terdapat perbandingan A > B , maka pernyataan bernilai : \" , x2 , \"\\n\")\n",
    "\n",
    "# berikutnya, inisialisasi variable 'y' , 'y2' , 'k' , dan 'k2' dengan operasi perbandingan\n",
    "# operasi perbandingannya menggunakan operator '>=' , '<' , '<=' , dan '>'\n",
    "y = a1_31 >= a1_31\n",
    "y2 = a1_31 < a1_31\n",
    "k = a1_31 <= a1_31\n",
    "k2 = a1_31 > a1_31\n",
    "\n",
    "# sama seperti sebelumnya, variable akan bertipe data boolean\n",
    "print(\"Lalu, untuk pernyataan A >= A , akan bernilai : \" , y)\n",
    "print(\"ataupun sebaliknya (A <= A) , akan bernilai : \" , k)\n",
    "print(\"\\nDan, untuk pernyataan A < A , akan bernilai : \" , y2)\n",
    "print(\"ataupun sebaliknya (A > A) , akan bernilai : \" , k2)\n",
    "\n",
    "# terakhir, inisialisasi variable 'z' dan 'z2' dengan operasi perbandingan\n",
    "# operasi perbandingannya menggunakan operator '!=' , dimana maksud operator ini adalah negasi\n",
    "# dan variable akan bertipe data boolean\n",
    "z = a1_31 != b1_31\n",
    "z2 = b1_31 != a1_31\n",
    "print(\"\\nTerakhir, diketahui A tidak sama dengan B , maka pernyataan akan bernilai : \" , z )\n",
    "print(\"dan begitupun jika B tidak sama dengan A , maka pernyataan akan bernilai : \" , z2)"
   ]
  },
  {
   "cell_type": "markdown",
   "id": "fc7079a1",
   "metadata": {},
   "source": [
    "# "
   ]
  },
  {
   "cell_type": "markdown",
   "id": "fc4085ee",
   "metadata": {},
   "source": [
    "# "
   ]
  },
  {
   "cell_type": "markdown",
   "id": "fe778e35",
   "metadata": {},
   "source": [
    "# 5.9 Operasi Logika"
   ]
  },
  {
   "cell_type": "code",
   "execution_count": null,
   "id": "023dc0e0",
   "metadata": {},
   "outputs": [],
   "source": [
    "####################################\n",
    "# Tentang Operasi Logika\n",
    "# Penggunaan operator logika python pada tabel kebenaran\n",
    "####################################\n",
    "\n",
    "# perintah print memasukan data strings\n",
    "# dengan menggunakan tanda ',' , kita dapat menambahkan data strings berbeda dari sebelumnya pada satu perintah print\n",
    "# lalu dengan '\\n' akan membuat data strings berada pada baris berikutnya\n",
    "print(\"Diketahui sebuah variable A yang merupakan suatu bilangan bulat positif 10\" , \"\\ndan sebuah variable B yang merupakan suatu bilangan bulat negatif -10\")\n",
    "\n",
    "\n",
    "print(\"\\nMaka tabel kebenarannya sebagai berikut : \")\n",
    "\n",
    "# inisialisasi variable dengan data integer\n",
    "variablea_31 = 10\n",
    "variableb_31 = -10\n",
    "\n",
    "# inisialisasi variable dengan output True menggunakan operasi logika\n",
    "# operator yang digunakan adalah '<' dan '>'\n",
    "truea_31 = variablea_31 > 5\n",
    "trueb_31 = variableb_31 < 5\n",
    "\n",
    "# inisialisasi variable dengan ouput False menggunakan operasi logika\n",
    "# operator yang digunakan adalah '<' dan '>'\n",
    "falsea_31 = variablea_31 < 5\n",
    "falseb_31 = variableb_31 > 5\n",
    "\n",
    "# inisialisati variable yang bernegasi dengan variable aslinya\n",
    "# operator yang digunakan adalah 'not()'\n",
    "# not() merupakan operator yang berfungsi sebagai negasi\n",
    "notvariablea_31 = not(variablea_31)\n",
    "notvariableb_31 = not(variableb_31)\n",
    "\n",
    "# inisialisasi variable yang memiliki operator 'and' untuk menentukan ouput data boolean\n",
    "# operator 'and' akan bernilai True jika kedua perbandingan bernilai True\n",
    "# dan akan bernilai False jika salah satu atau lebih bernilai False\n",
    "and1_31 = variablea_31 > 5 and variableb_31 < 5  # T n T\n",
    "and2_31 = variablea_31 > 5 and variableb_31 > 5  # T n F\n",
    "and3_31 = variablea_31 < 5 and variableb_31 < 5  # F n T\n",
    "and4_31 = variablea_31 < 5 and variableb_31 > 5  # F n F\n",
    "\n",
    "# inisialisasi variable yang memiliki operator 'or' untuk menentukan output data boolean\n",
    "# operator 'or' akan bernilai True jika salah satu atau lebih perbandingan bernilai True\n",
    "# dan akan bernilai False jika semua perbandingan bernilai False\n",
    "or1_31 = variablea_31 > 5 or variableb_31 < 5  # T or T\n",
    "or2_31 = variablea_31 > 5 or variableb_31 > 5  # T or F\n",
    "or3_31 = variablea_31 < 5 or variableb_31 < 5  # F or T\n",
    "or4_31 = variablea_31 < 5 or variableb_31 > 5  # F or F\n",
    "\n",
    "# berikut adalah bentuk perintah print untuk membentuk tabel kebenaran\n",
    "# variable-variable perbandingan dimasukkan dan ditambahkan '\" \"' akan lebih rapih\n",
    "print(\"\\nA     \" , \"B     \" , \"!A     \" , \"!B     \" , \"[A and B]     \" , \"[A or B]\")\n",
    "print(truea_31, \" \" , trueb_31 , \" \" , falsea_31 , \" \" , falseb_31 , \" \" , and1_31, \"         \" , or1_31)\n",
    "print(truea_31, \" \" , falseb_31 , \"\" , falsea_31 , \" \" , trueb_31 , \"  \" , and2_31, \"        \" , or2_31)\n",
    "print(falsea_31, \"\" , trueb_31 , \" \" , truea_31 , \"  \" , falseb_31 , \" \" , and3_31, \"        \" , or3_31)\n",
    "print(falsea_31, \"\" , falseb_31 , \"\" , truea_31 , \"  \" , trueb_31 , \"  \" , and4_31, \"        \" , or4_31)\n",
    "\n",
    "#@@@@@@@@@@@@@@@@@@@@@@@@@@@@@@@@\n",
    "# perlu diperhatikan, '\" \"' yang digunakan diukur secara manual tanpa fungsi \n",
    "# sehingga, tidak semua '\" \"' berjumlah sama satu sama lain\n",
    "#@@@@@@@@@@@@@@@@@@@@@@@@@@@@@@@@"
   ]
  },
  {
   "cell_type": "markdown",
   "id": "85dbae33",
   "metadata": {},
   "source": [
    "# "
   ]
  },
  {
   "cell_type": "markdown",
   "id": "663474cb",
   "metadata": {},
   "source": [
    "# "
   ]
  },
  {
   "cell_type": "markdown",
   "id": "f3487a43",
   "metadata": {},
   "source": [
    "# 5.10 Operator if  "
   ]
  },
  {
   "cell_type": "code",
   "execution_count": null,
   "id": "ff7e2b53",
   "metadata": {},
   "outputs": [],
   "source": [
    "################################\n",
    "# Tentang Operator If\n",
    "# Penggunaan operator if , elif , dan else untuk membuktikan pernyataan\n",
    "################################\n",
    "\n",
    "# perintah print mengeluarkan ouput data strings yang dimasukkan\n",
    "print(\"Diberikan himpunan semesta S berhingga. Untuk setiap himpunan A , B = 2S , definiksikan operasi + dan x sebagai\")\n",
    "print(\"A + B = (A-B) v (B-A)\")\n",
    "print(\"A x B = A n B\")\n",
    "\n",
    "print(\"\\nTerdapat beberapa pernyataan untuk dibuktikan sebagai berikut\")\n",
    "print(\"a. A + 0 = 0 + A = A\")\n",
    "print(\"b. A x B e 2S\")\n",
    "print(\"c. A x (B+C) = (AxB) + (AxC)\")\n",
    "\n",
    "# inisialisasi variable dengan perintah input data strings \n",
    "pertanyaan_31 = input(\"\\nPilihlah pernyataan yang akan dibuktikan (*pilih a , b , atau c) : \")\n",
    "\n",
    "# fungsi 'if' akan menentukan apakah variable akan diinisialisasikan kedalam fungsi\n",
    "# terdapat syarat pada fungsi 'if' untuk menentukan apakah variable sesuai atau tidak\n",
    "# pada fungsi kali ini, syaratnya adalah 'pertanyaan_31 == \"a\" '\n",
    "# operator yang berlaku adalah '==' yang artinya 'sama dengan'\n",
    "if pertanyaan_31 == \"a\" :\n",
    "    print(\"\\nBerikut adalah beberapa fakta yang dimiliki sistem untuk menyelesaikan masalah\")\n",
    "    print(\"1. A + B = (A-B) v (B-A)\")\n",
    "    print(\"2. Diketahui definisi A-0 = A\")\n",
    "    print(\"3. Diketahui defisini 0-A = 0\")\n",
    "    print(\"4. Jadi A + 0 = (A-0) v (0-A) = A v 0 = A , sehingga pernyataan terbukti.\" )\n",
    "    p1_31 = \"A + B = (A-B) v (B-A)\"\n",
    "    p2_31 = \"Diketahui definisi A-0 = A\"\n",
    "    p3_31 = \"Diketahui defisini 0-A = 0\"\n",
    "    p4_31 = \"Jadi A + 0 = (A-0) v (0-A) = A v 0 = A , sehingga pernyataan terbukti.\"      \n",
    "    print(\"\\nSehingga jawaban yang mungkin adalah : \")\n",
    "    print(f'Karena diketahui definisi {p1_31} , sehingga {p2_31[0:1].lower()}{p2_31[1:26]} dan {p3_31[0:1].lower()}{p3_31[1:26]}. {p4_31}' )\n",
    "    \n",
    "# jika variable tidak sesuai dengan syarat fungsi if , maka variable akan dimasukkan kedalam fungsi 'elif'\n",
    "# sama dengan fungsi if , terdapat pula syarat yang berlaku pada fungsi 'elif' untuk menentukan apakah variable sesuai atau tidak\n",
    "# pada fungsi kali ini, syaratnya adalah 'pertanyaan_31 == \"b\" '\n",
    "# operator yang berlaku adalah '==' yang artinya 'sama dengan'\n",
    "elif pertanyaan_31 == \"b\" :\n",
    "    print(\"\\nBerikut adalah beberapa fakta yang dimiliki sistem untuk menyelesaikan masalah\")\n",
    "    print(\"1. A , B e 2S\")\n",
    "    print(\"2. A e 2S\")\n",
    "    print(\"3. B e 2S\")\n",
    "    print(\"4. A n B e 2S\")\n",
    "    print(\"5. Karena sesuai definisi A n B = A x B, sehingga pernyataan terbukti.\")\n",
    "    p5_31 = \"A , B e 2S\"\n",
    "    p6_31 = \"A e 2S\"\n",
    "    p7_31 = \"B e 2S\"\n",
    "    p8_31 = \"A n B e 2S\"\n",
    "    p9_31 = \"Karena sesuai definisi A n B = A x B, sehingga pernyataan terbukti.\"\n",
    "    print(\"\\nSehingga jawaban yang mungkin adalah : \")\n",
    "    print(f'Diketahui defisini {p5_31} , maka berlaku {p6_31} dan {p7_31}. Sehingga, {p8_31} berlaku dan {p9_31[0:1].lower()}{p9_31[1:26]}')\n",
    "\n",
    "# lalu, jika variable tidak sesuai dengan fungsi elif pertama , maka variable akan dimasukkan kedalam fungsi elif kedua (*jika terdapat pada syntax) \n",
    "# pada fungsi kali ini, syaratnya adalah 'pertanyaan_31 == \"c\" '\n",
    "# operator yang berlaku adalah '==' yang artinya 'sama dengan'\n",
    "elif pertanyaan_31 == \"c\" :\n",
    "    print(\"\\nBerikut adalah beberapa fakta yang dimiliki sistem untuk menyelesaikan masalah\")\n",
    "    print(\"1. A x (B+C) = A n (B+C)\")\n",
    "    print(\"2.           = A n ((B-C) u (C-B))\")\n",
    "    print(\"3.           = (A n (B-C)) u (A n (C-B)))\")\n",
    "    print(\"4.           = ((A n B) - (A n C)) u ((A n C) - (A n B))\")\n",
    "    print(\"5.           = (A n B) + (A n C)\")\n",
    "    print(\"6.           = (A x B) + (A x C)\")\n",
    "    print(\"\\nSehingga pertanyaan terbukti.\")\n",
    "    \n",
    "# terakhir, jika variable tidak sesuai dengan fungsi if atau elif , maka variable akan dimasukkan kedalam fungsi else\n",
    "# fungsi ini adalah fungsi terakhir yang artinya variable pada perintah input tidak ada yang sesuai dengan syarat-syarat sebelumnya\n",
    "else :\n",
    "    print(\"\\nWarning!! Pernyataan Salah!!\")\n",
    "    print(\"Masukan salah satu pernyataan a , b , atau c!\")"
   ]
  }
 ],
 "metadata": {
  "kernelspec": {
   "display_name": "Python 3 (ipykernel)",
   "language": "python",
   "name": "python3"
  },
  "language_info": {
   "codemirror_mode": {
    "name": "ipython",
    "version": 3
   },
   "file_extension": ".py",
   "mimetype": "text/x-python",
   "name": "python",
   "nbconvert_exporter": "python",
   "pygments_lexer": "ipython3",
   "version": "3.9.13"
  }
 },
 "nbformat": 4,
 "nbformat_minor": 5
}
