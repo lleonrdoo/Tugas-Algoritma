{
 "cells": [
  {
   "cell_type": "markdown",
   "id": "9f3dce45",
   "metadata": {},
   "source": [
    "# 5.11 While Loop "
   ]
  },
  {
   "cell_type": "code",
   "execution_count": 8,
   "id": "402d5f92",
   "metadata": {},
   "outputs": [
    {
     "name": "stdout",
     "output_type": "stream",
     "text": [
      "dari nilai x = 0 \n",
      " 0 merupakan nilai y yang terdeteksi\n",
      "-1 merupakan nilai x yang terdeteksi\n",
      "\n",
      "dari nilai x = -1 \n",
      " -2 merupakan nilai y yang terdeteksi\n",
      "-2 merupakan nilai x yang terdeteksi\n",
      "\n",
      "dari nilai x = -2 \n",
      " -4 merupakan nilai y yang terdeteksi\n",
      "-3 merupakan nilai x yang terdeteksi\n",
      "\n"
     ]
    }
   ],
   "source": [
    "#######################################\n",
    "# Latihan Penggunaan 'While Loop'\n",
    "#######################################\n",
    "\n",
    "# berikut adalah inisialisasi variabel 'x' sama dengan '0'\n",
    "x = 0\n",
    "\n",
    "# fungsi 'while' digunakan sebagai perulangan\n",
    "# maksud perulangan disini adalah :\n",
    "# (1) jika syarat 'while' sebelum ':' sudah terpenuh, variabel akan masuk kedalam fungsi\n",
    "# (2) variabel yang masuk kedalam fungsi, akan dieksekusi sampai batas syarat fungsi 'while'\n",
    "while -2 <= x < 2 :\n",
    "    y = x*2\n",
    "    x = x - 1\n",
    "    print(\"dari nilai x =\" , (x+1) , \"\\n\" , y , \"merupakan nilai y yang terdeteksi\" )\n",
    "    print(x , \"merupakan nilai x yang terdeteksi\\n\" )\n",
    "    \n",
    "    \n",
    "#$$$$$$$$$$$$$$$$$$$$$$$$$$$$$$$$$$$$$$$$$$$$$$$$   \n",
    "# berikut adalah ouput dari syntax yang saya buat \n",
    "#$$$$$$$$$$$$$$$$$$$$$$$$$$$$$$$$$$$$$$$$$$$$$$$$    "
   ]
  },
  {
   "cell_type": "markdown",
   "id": "a9ac7bea",
   "metadata": {},
   "source": [
    "### Contoh pengaplikasi While Loop pada sebuah program"
   ]
  },
  {
   "cell_type": "code",
   "execution_count": 7,
   "id": "1a64f36f",
   "metadata": {},
   "outputs": [
    {
     "name": "stdout",
     "output_type": "stream",
     "text": [
      "'Diketahui beberapa jenis buku sebagai berikut : \n",
      "(1)science,(2)sosial-science,(3)politics,(4)novel,(5)education,(6)self-improvement\n",
      "Ada berapa jenis buku yang anda sukai : 3\n",
      "Berikut adalah kemungkinan jenis buku yang anda sukai : \n",
      "-politics\n",
      "-sosial-science\n",
      "-science\n",
      "\n",
      "Sekian, terima kasih\n"
     ]
    }
   ],
   "source": [
    "# disini saya menginisialisasi variabel dengan fungsi 'List' \n",
    "# serta membentuk variabel 'y' untuk menginput data integer dari pengguna \n",
    "# data yang diinput akan saya masukkan kedalam fungsi if atau elif atau else\n",
    "jenisbuku = ['-science','-sosial-science','-politics','-novel','-education','-self-improvement']\n",
    "penerbit = ['gramedia','mizan','bentang','erlangga','republika']\n",
    "print(\"'Diketahui beberapa jenis buku sebagai berikut : \")\n",
    "print(\"(1)science,(2)sosial-science,(3)politics,(4)novel,(5)education,(6)self-improvement\")\n",
    "y = int(input(\"Ada berapa jenis buku yang anda sukai : \"))\n",
    "\n",
    "\n",
    "# fungsi if disini bertujuan untuk menganalisis input data integer dari pengguna\n",
    "# jika data yang diinput memenuhi syarat 'if' yang terdapat dibelakang ':' , maka data akan dieksekusi\n",
    "if 3 <= y < 6 :\n",
    "    print(\"Berikut adalah kemungkinan jenis buku yang anda sukai : \")\n",
    "    # disini saya menggunakan fungsi 'While'\n",
    "    # dengan syarat yang sudah saya atur dibelakang ':'\n",
    "    # data yang masuk ke fungsi 'if' akan dieksekusi pada fungsi 'while' ini\n",
    "    while 1 <= y < len(jenisbuku) :\n",
    "        y = y - 1\n",
    "        print(jenisbuku[y])\n",
    "    print(\"\\nSekian, terima kasih\")\n",
    "\n",
    "    \n",
    "# lalu, terdapat fungsi elif yang memiliki tujuan yang sama dengan fungsi 'if' diatas\n",
    "# jika data tidak memenuhi syarat 'if' , maka data akan dimasukkan kedalam 'elif'\n",
    "# elif akan memeriksa apakah data memenuhi syarat atau tidak\n",
    "# jika memenuhi, data akan dieksekusi\n",
    "elif 2 <= y < 3:\n",
    "    print(\"Baiklah, mungkin anda menyukai jenis buku ini : \")\n",
    "    # disini saya menggunakan fungsi 'While'\n",
    "    # dengan syarat yang sudah saya atur dibelakang ':'\n",
    "    # data yang masuk ke fungsi 'elif' akan dieksekusi pada fungsi 'while' ini\n",
    "    while 1 <= y < len(jenisbuku[0:3]) :\n",
    "        y = y - 1\n",
    "        print(jenisbuku[y])\n",
    "    print(\"\\nSekian, terima kasih\")\n",
    "\n",
    "# sama dengan penjelasan sebelumnya tentang fungsi 'elif'\n",
    "# yang berbeda hanyalah syarat dibelakang ':'\n",
    "# jika memenuhi syarat, data akan dieksekusi\n",
    "elif y == 1 :\n",
    "    print(\"Hmm, hanya satu, mungkin salah satu dari jenis buku yang ini : \")\n",
    "    y = 0\n",
    "    print(jenisbuku[0])\n",
    "    # disini saya menggunakan fungsi 'While'\n",
    "    # dengan syarat yang sudah saya atur dibelakang ':'\n",
    "    # data yang masuk ke fungsi 'elif' akan dieksekusi pada fungsi 'while' ini\n",
    "    while 0 <= y < len(jenisbuku[0:5]) :\n",
    "        y = y + 1\n",
    "        print(\"\\natau\\n\")\n",
    "        print( jenisbuku[y])\n",
    "    print(\"\\nSekian, terima kasih\")\n",
    "\n",
    "\n",
    "# jika data tidak memenuhi syarat fungsi 'if' atau 'elif' , maka akan masuk ke fungsi 'else'\n",
    "# artinya, data yang dimasukkan tidak sesuai perintah\n",
    "else : print(\"Pilihlah 1,2,3,4,5,6 jenis buku yang anda suka!!\")\n",
    "   \n",
    " \n",
    "#$$$$$$$$$$$$$$$$$$$$$$$$$$$$$$$$$$$$$$$$$$$$$$$$   \n",
    "# berikut adalah ouput dari syntax yang saya buat \n",
    "#$$$$$$$$$$$$$$$$$$$$$$$$$$$$$$$$$$$$$$$$$$$$$$$$     "
   ]
  },
  {
   "cell_type": "markdown",
   "id": "533f681d",
   "metadata": {},
   "source": [
    "# "
   ]
  },
  {
   "cell_type": "markdown",
   "id": "42b4fb47",
   "metadata": {},
   "source": [
    "# "
   ]
  },
  {
   "cell_type": "markdown",
   "id": "5fddbac8",
   "metadata": {},
   "source": [
    "# 5.12 List di Python"
   ]
  },
  {
   "cell_type": "markdown",
   "id": "63d86b96",
   "metadata": {},
   "source": [
    "### Contoh pengaplikasi List pada sebuah program "
   ]
  },
  {
   "cell_type": "code",
   "execution_count": 9,
   "id": "a2625341",
   "metadata": {},
   "outputs": [
    {
     "name": "stdout",
     "output_type": "stream",
     "text": [
      "pilih lah paket makanan (1), (2), (3), atau (4) : 1\n",
      "untuk pilihan 1 makanan dan minuman yang tersedia adalah : \n",
      "\n",
      " burger dan teh botol\n",
      "\n",
      "Silahkan, terima kasih\n"
     ]
    }
   ],
   "source": [
    "#######################################\n",
    "# Latihan Penggunaan 'List di Python'\n",
    "# Beserta pengaplikasiannya\n",
    "#######################################\n",
    "\n",
    "# berikut adalah inisialisasi variabe dengan fungsi 'list' dan bertipa data 'strings'\n",
    "makanan_31 = ['burger','mie','nasi goreng','bakso'] \n",
    "minuman_31 = ['teh botol','es jeruk','es kelapa','air mineral']\n",
    "space = ' '\n",
    "konjungsi = ['dan']\n",
    "\n",
    "# lalu, saya membentuk variabel baru dengan memanggil fungsi 'list' sesuai urutan \n",
    "# saya juga menggunakan operasi matematika berupa '+'\n",
    "paket1 = makanan_31[0] + space[0] + konjungsi[0] + space[0] + minuman_31[0]\n",
    "paket2 = makanan_31[1] + space[0] + konjungsi[0] + space[0] + minuman_31[1]\n",
    "paket3 = makanan_31[2] + space[0] + konjungsi[0] + space[0] + minuman_31[2]\n",
    "paket4 = makanan_31[3] + space[0] + konjungsi[0] + space[0] + minuman_31[3]\n",
    "\n",
    "# setelahnya, saya meminta pengguna untuk menginputkan nilai seusai perintah data strings\n",
    "# data yang dimasukkan pengguna akan dieksekusi dengan fungsi 'if' atau 'elif' atau 'else'\n",
    "pilihan = input(\"pilih lah paket makanan (1), (2), (3), atau (4) : \")\n",
    "\n",
    "# fungsi 'if' memiliki syarat dibelakang ':'\n",
    "# jika data memenuhi syarat, fungsi akan dieksekusi\n",
    "if pilihan == '1' :\n",
    "    # disini saya memanggil variabel yang memiliki urutan 'list' \n",
    "    # beserta menambahkan data strings pelengkap\n",
    "    print(\"untuk pilihan\" , pilihan , \"makanan dan minuman yang tersedia adalah : \\n\\n\" , paket1)\n",
    "    print(\"\\nSilahkan, terima kasih\")\n",
    "\n",
    "# data yang tidak memenuhi fungsi 'if' akan dimasukkan kedalam fungsi 'elif'\n",
    "# jika data memenuhi syarat, fungsi akan dieksekusi\n",
    "elif pilihan == '2' :\n",
    "    # disini saya memanggil variabel yang memiliki urutan 'list' \n",
    "    # beserta menambahkan data strings pelengkap\n",
    "    print(\"untuk pilihan\" , pilihan , \"makanan dan minuman yang tersedia adalah : \\n\\n\" , paket2)\n",
    "    print(\"\\nSilahkan, terima kasih\")\n",
    "\n",
    "# jika data tidak memenuhi 'elif' sebelumnya, maka akan dimasukkan ke dalam fungsi 'elif berikutnya'\n",
    "# data yang memenuhi syarat akan dieksekusi fungsi\n",
    "elif pilihan == '3' :\n",
    "    # disini saya memanggil variabel yang memiliki urutan 'list' \n",
    "    # beserta menambahkan data strings pelengkap\n",
    "    print(\"untuk pilihan\" , pilihan , \"makanan dan minuman yang tersedia adalah : \\n\\n\" , paket3)\n",
    "    print(\"\\nSilahkan, terima kasih\")\n",
    "\n",
    "# data yang memenuhi syarat akan dieksekusi fungsi\n",
    "elif pilihan == '4' :\n",
    "    # disini saya memanggil variabel yang memiliki urutan 'list' \n",
    "    # beserta menambahkan data strings pelengkap\n",
    "    print(\"untuk pilihan\" , pilihan , \"makanan dan minuman yang tersedia adalah : \\n\\n\" , paket4)\n",
    "    print(\"\\nSilahkan, terima kasih\")\n",
    "\n",
    "# jika data masuk kedalam fungsi 'else' , berarti ada kesalahan input yang dilakukan pengguna\n",
    "else :\n",
    "    print(\"pilih (1), (2), (3), atau (4) saja!!\")\n",
    "    \n",
    "    \n",
    "#$$$$$$$$$$$$$$$$$$$$$$$$$$$$$$$$$$$$$$$$$$$$$$$$   \n",
    "# berikut adalah ouput dari syntax yang saya buat \n",
    "#$$$$$$$$$$$$$$$$$$$$$$$$$$$$$$$$$$$$$$$$$$$$$$$$ "
   ]
  },
  {
   "cell_type": "markdown",
   "id": "3b487753",
   "metadata": {},
   "source": [
    "# "
   ]
  },
  {
   "cell_type": "markdown",
   "id": "e5aaf8f2",
   "metadata": {},
   "source": [
    "# "
   ]
  },
  {
   "cell_type": "markdown",
   "id": "7b310665",
   "metadata": {},
   "source": [
    "# 5.13 Metoda List"
   ]
  },
  {
   "cell_type": "code",
   "execution_count": 10,
   "id": "370eec2c",
   "metadata": {},
   "outputs": [
    {
     "name": "stdout",
     "output_type": "stream",
     "text": [
      "['leo', 'suta', 'rian', 'leonard']\n"
     ]
    }
   ],
   "source": [
    "#######################################\n",
    "# Latihan Penggunaan 'Metoda List'\n",
    "#######################################\n",
    "\n",
    "# berikut inisialisasi variabel dengan fungsi 'List'\n",
    "nama1 = ['leo' , 'suta' , 'rian']\n",
    "\n",
    "# operator 'append' akan menambahkan data kedalam variabel yang dituju\n",
    "nama1.append('leonard')\n",
    "print(nama1)\n",
    "\n"
   ]
  },
  {
   "cell_type": "code",
   "execution_count": 11,
   "id": "b32dd89b",
   "metadata": {},
   "outputs": [
    {
     "name": "stdout",
     "output_type": "stream",
     "text": [
      "['serly', 'leo', 'suta', 'rian', 'leonard']\n"
     ]
    }
   ],
   "source": [
    "# operator 'insert' akan menambahkan data kedalam variabel yang dituju\n",
    "# namun, berbeda dengan operator 'append'\n",
    "# pada operator 'insert' , pengguna dapat menetukan urutan dari 'List' pada variabel yang dituju\n",
    "nama1.insert(0, 'serly')\n",
    "print(nama1)"
   ]
  },
  {
   "cell_type": "code",
   "execution_count": 12,
   "id": "07299d61",
   "metadata": {},
   "outputs": [
    {
     "name": "stdout",
     "output_type": "stream",
     "text": [
      "['serly', 'leo', 'suta', 'leonard']\n"
     ]
    }
   ],
   "source": [
    "# operator 'remove' akan menghapuskan data yang dimaksud dari variabel yang dituju\n",
    "nama1.remove('rian')\n",
    "print(nama1)"
   ]
  },
  {
   "cell_type": "code",
   "execution_count": 13,
   "id": "de45614f",
   "metadata": {},
   "outputs": [
    {
     "name": "stdout",
     "output_type": "stream",
     "text": [
      "False\n"
     ]
    }
   ],
   "source": [
    "# operator 'in' akan menentukan apakah data berada pada variabel atau tidak\n",
    "# operator 'in' bertipe data boolean\n",
    "# berikut adalah contoh data yang tidak terdapat didalam variabel\n",
    "print('Suta' in nama1)"
   ]
  },
  {
   "cell_type": "code",
   "execution_count": 14,
   "id": "aa9fcbfb",
   "metadata": {},
   "outputs": [
    {
     "name": "stdout",
     "output_type": "stream",
     "text": [
      "True\n"
     ]
    }
   ],
   "source": [
    "# berikut adalah contoh data yang terdapat didalam variabel\n",
    "print('leo' in nama1)"
   ]
  },
  {
   "cell_type": "markdown",
   "id": "918f3855",
   "metadata": {},
   "source": [
    "### Contoh pengaplikasian Metoda List pada sebuah program "
   ]
  },
  {
   "cell_type": "code",
   "execution_count": 1,
   "id": "0a72e9f0",
   "metadata": {},
   "outputs": [
    {
     "name": "stdout",
     "output_type": "stream",
     "text": [
      "Diketahui 3 kabupaten di Bali            : Jembaren, Klungkung, dan Buleleng\n",
      "Akan ditambahkan beberapa kabupaten lagi : (1)Tabanan, (2)Badung, (3)Gianyar\n",
      "\n",
      "Pilih salah satu kabupaten tersebut kedalam daftar : 2\n",
      "['Jembrane', 'Klungkung', 'Buleleng', 'Badung']\n",
      "\n",
      "Jika saya ingin mengisi daftar tersebut dengan Kota Denpasar \n",
      "Apakah akan memenuhi pernyataan?\n",
      "\n",
      "Masukan 'Denpasar' ke dalam pernyataan : Denpasar\n",
      "['Jembrane', 'Klungkung', 'Buleleng', 'Badung', 'Denpasar']\n",
      "Mari kita lihat, apakah denpasar termasuk kedalam Kabupaten?  \n",
      "\n",
      "True atau False :  False\n",
      "\n",
      "Artinya Denpasar tidak termasuk kedalam Kabupaten di Bali\n",
      "Sekian, terima kasih\n"
     ]
    }
   ],
   "source": [
    "# berikut adalah inisialisasi variabel dengan fungsi 'list' dan tipe data 'strings'\n",
    "kabbali = ['Jembrane','Klungkung','Buleleng','Tabanan','Badung','Gianyar']\n",
    "kotabali = ['Denpasar']\n",
    "kabupaten_31 = ['Jembrane','Klungkung','Buleleng']\n",
    "kabupaten2_31 = ['0','Tabanan','Badung','Gianyar']\n",
    "kota_31 = 'Denpasar'\n",
    "\n",
    "# berikut adalah deklarasi awal pernyataan dengan fungsi 'print'\n",
    "# beserta inisialisasi variabel dengan pengguna menginput data sesuai ketentuan data strings\n",
    "print(\"Diketahui 3 kabupaten di Bali            : Jembaren, Klungkung, dan Buleleng\")\n",
    "print(\"Akan ditambahkan beberapa kabupaten lagi : (1)Tabanan, (2)Badung, (3)Gianyar\\n\")\n",
    "isian = input(\"Pilih salah satu kabupaten tersebut kedalam daftar : \")\n",
    "\n",
    "# data yang dimasukkan pengguna akan dimasukkan dalam variabel yang dituju dengan operator 'append'\n",
    "kabupaten_31.append(kabupaten2_31[int(isian)])\n",
    "print(kabupaten_31)\n",
    "\n",
    "# dilanjut deklarasi pernyataan berikutnya dengan fungsi 'print'\n",
    "# beserta inisialisasi variabel berikutnya dengan pengguna menginput data sesuai ketentuan data strings\n",
    "print(\"\\nJika saya ingin mengisi daftar tersebut dengan Kota Denpasar\",\"\\nApakah akan memenuhi pernyataan?\\n\")\n",
    "isian2 = input(\"Masukan 'Denpasar' ke dalam pernyataan : \")\n",
    "\n",
    "# jika data sesuai dengan syarat fungsi 'if' , maka data akan dieksekusi\n",
    "if isian2 == 'Denpasar':\n",
    "    # berikut penggunaan operator 'append' untuk memasukkan data kedalam variabel yang dituju\n",
    "    kabupaten_31.append(kotabali[0])\n",
    "    print(kabupaten_31)\n",
    "    print(\"Mari kita lihat, apakah denpasar termasuk kedalam Kabupaten?  \\n\") \n",
    "    # berikut penggunaan operator 'in' untuk menentukan apakah data terdapat didalam variabel atau tidak\n",
    "    print(\"True atau False : \" , kotabali[0] in kabbali)\n",
    "    print(\"\\nArtinya Denpasar tidak termasuk kedalam Kabupaten di Bali\")\n",
    "    print(\"Sekian, terima kasih\")\n",
    "\n",
    "# jika data masuk kedalam fungsi 'else' , berarti terdapat kesalahan input data oleh pengguna\n",
    "else : print(\"Masukan 'Denpasar' saja!!\")\n",
    "    \n",
    "    \n",
    "#$$$$$$$$$$$$$$$$$$$$$$$$$$$$$$$$$$$$$$$$$$$$$$$$   \n",
    "# berikut adalah ouput dari syntax yang saya buat \n",
    "#$$$$$$$$$$$$$$$$$$$$$$$$$$$$$$$$$$$$$$$$$$$$$$$$ "
   ]
  },
  {
   "cell_type": "markdown",
   "id": "b8db3452",
   "metadata": {},
   "source": [
    "# "
   ]
  },
  {
   "cell_type": "markdown",
   "id": "e3d14d21",
   "metadata": {},
   "source": [
    "# "
   ]
  },
  {
   "cell_type": "markdown",
   "id": "38b1b0be",
   "metadata": {},
   "source": [
    "# 5.14 For Loop "
   ]
  },
  {
   "cell_type": "markdown",
   "id": "23d8d398",
   "metadata": {},
   "source": [
    "### Contoh pengaplikasian For Loop pada sebuah program "
   ]
  },
  {
   "cell_type": "code",
   "execution_count": 2,
   "id": "e9f532d2",
   "metadata": {},
   "outputs": [
    {
     "name": "stdout",
     "output_type": "stream",
     "text": [
      "Pilihlah salah satu kelas A atau B : A\n",
      "Berikut adalah beberapa nama anak laki-laki kelas A :\n",
      "- Leo\n",
      "- Suta\n",
      "- Rian\n",
      "- Jaya\n",
      "- Ricardo\n",
      "Berikut adalah beberapa nama anak perempuan kelas A :\n",
      "- Rika\n",
      "- Adina\n",
      "- Aul\n",
      "- Martini\n",
      "- Indry\n",
      "Pilihlah salah satu nama : Leo\n",
      "L\n",
      "e\n",
      "o\n",
      "Nama ' Leo ' terdiri dari  3 huruf\n",
      "Sekian, terima kasih\n"
     ]
    }
   ],
   "source": [
    "#######################################\n",
    "# Latihan Penggunaan 'For Loop'\n",
    "# Besert pengaplikasiannya\n",
    "#######################################\n",
    "\n",
    "# berikut adalah inisialisasi variabel dengan fungsi 'list' dan bertipe data 'strings'\n",
    "nama1 = ['Leo','Suta','Rian','Jaya','Ricardo']\n",
    "namac1 = ['Rika','Adina','Aul','Martini','Indry']\n",
    "nama2 = ['Yuro','Aldy','Richard','Alan','Mikha']\n",
    "namac2 = ['Hagia','Sabrina','Jeki','Kezia']\n",
    "# berikut adalah inisialisasi variabel bertipe data 'integer'\n",
    "nama_31 = 0\n",
    "\n",
    "# berikutnya adalah inisialisasi variabel dengan pengguna memasukkan data sesuai dengan syarat data strings\n",
    "pilihan_31 = input(\"Pilihlah salah satu kelas A atau B : \")\n",
    "\n",
    "# variabel yang memiliki data pengguna akan dimasukkan kedalam fungsi 'if'\n",
    "# jika variabel sesuai dengan syarat dibelakang ':'\n",
    "# maka fungsi 'if' akan mengeksekusi variabel\n",
    "if pilihan_31 == 'A' :\n",
    "    print(\"Berikut adalah beberapa nama anak laki-laki kelas A :\")\n",
    "    # berikut adalah fungsi 'for' yang digunakan untuk perulangan \n",
    "    # variabel yang disebutkan dimasukkan ke operator 'in' dari variabel yang dituju\n",
    "    # sehingga, hasil ouput variabel adalah bentuk perulangan\n",
    "    for nama_31 in nama1:\n",
    "        print('-' ,nama_31)\n",
    "        \n",
    "    print(\"Berikut adalah beberapa nama anak perempuan kelas A :\")\n",
    "    # berikut adalah fungsi 'for' yang digunakan untuk perulangan \n",
    "    # variabel yang disebutkan dimasukkan ke operator 'in' dari variabel yang dituju\n",
    "    # sehingga, hasil ouput variabel adalah bentuk perulangan\n",
    "    for nama_31 in namac1:\n",
    "        print('-', nama_31)\n",
    "        \n",
    "    namapilihan = input(\"Pilihlah salah satu nama : \")\n",
    "    i = 0\n",
    "    # lalu, digunakan fungsi 'while' untuk mengeksekusi variabel sesuai syarat dibelakang ':'\n",
    "    # fungsi 'while' juga melakukan perulangan namun berbeda cara mendeklarasikannya dengan 'for'\n",
    "    # fungsi 'while' dapat menggunakan operator perbandingan sedangkan 'for' menggunakan operator pada 'list'\n",
    "    while i < len(namapilihan) :\n",
    "        print(namapilihan[i])\n",
    "        i += 1\n",
    "    print(\"Nama '\" , namapilihan , \"' terdiri dari \" , len(namapilihan) , \"huruf\" )\n",
    "    print(\"Sekian, terima kasih\")\n",
    "\n",
    "    \n",
    "# jika variabel tidak sesuai dengan syarat 'if' , maka variabel akan dimasukkan ke dalam fungsi 'elif'\n",
    "# dan, jika variabel sesuai dengan syarat, fungsi akan dieksekusi\n",
    "elif pilihan_31 == 'B' :\n",
    "    print(\"Berikut adalah beberapa nama anak laki-laki kelas B :\")\n",
    "    # berikut adalah fungsi 'for' yang digunakan untuk perulangan \n",
    "    # variabel yang disebutkan dimasukkan ke operator 'in' dari variabel yang dituju\n",
    "    # sehingga, hasil ouput variabel adalah bentuk perulangan\n",
    "    for nama_31 in nama2:\n",
    "        print('-',nama_31)\n",
    "        \n",
    "    print(\"Berikut adalah beberapa nama anak perempuan kelas B :\")\n",
    "    # berikut adalah fungsi 'for' yang digunakan untuk perulangan \n",
    "    # variabel yang disebutkan dimasukkan ke operator 'in' dari variabel yang dituju\n",
    "    # sehingga, hasil ouput variabel adalah bentuk perulangan\n",
    "    for nama_31 in namac2:\n",
    "        print('-',nama_31)\n",
    "        \n",
    "    namapilihan = input(\"Pilihlah salah satu nama : \")\n",
    "    j = 0\n",
    "    # lalu, digunakan fungsi 'while' untuk mengeksekusi variabel sesuai syarat dibelakang ':'\n",
    "    # fungsi 'while' juga melakukan perulangan namun berbeda cara mendeklarasikannya dengan 'for'\n",
    "    # fungsi 'while' dapat menggunakan operator perbandingan sedangkan 'for' menggunakan operator pada 'list'\n",
    "    while j < len(namapilihan) :\n",
    "        print(namapilihan[j])\n",
    "        j += 1\n",
    "    print(\"Nama '\" , namapilihan , \"' terdiri dari \" , len(namapilihan) , \"huruf\" )\n",
    "    print(\"Sekian, terima kasih\")\n",
    "\n",
    "# jika variabel tidak sesuai dengan fungsi 'if' atau 'elif'\n",
    "# berarti data yang dimasukkan kedalam variabel tidak sesuai dengan ketentuan data strings\n",
    "else : print(\"Pilih A atau B!!\")\n",
    "      \n",
    "\n",
    "#$$$$$$$$$$$$$$$$$$$$$$$$$$$$$$$$$$$$$$$$$$$$$$$$   \n",
    "# berikut adalah ouput dari syntax yang saya buat \n",
    "#$$$$$$$$$$$$$$$$$$$$$$$$$$$$$$$$$$$$$$$$$$$$$$$$ "
   ]
  },
  {
   "cell_type": "markdown",
   "id": "6f162354",
   "metadata": {},
   "source": [
    "# "
   ]
  },
  {
   "cell_type": "markdown",
   "id": "4ac13574",
   "metadata": {},
   "source": [
    "# "
   ]
  },
  {
   "cell_type": "markdown",
   "id": "df82d84f",
   "metadata": {},
   "source": [
    "# 5.15 Fungsi Range "
   ]
  },
  {
   "cell_type": "markdown",
   "id": "c9566f51",
   "metadata": {},
   "source": [
    "### Contoh pengaplikasian Fungsi Range pada sebuah program "
   ]
  },
  {
   "cell_type": "code",
   "execution_count": 6,
   "id": "12a53b13",
   "metadata": {},
   "outputs": [
    {
     "name": "stdout",
     "output_type": "stream",
     "text": [
      "Diketahui poin dari masing-masing objek\n",
      "0 = apel\n",
      "1 = pear\n",
      "2 = stoberi\n",
      "3 = blueberry\n",
      "poin untuk  range(0, 4) objek = ***** bintang\n",
      "Akan dicari nilai '*' dari masing-masing objek\n",
      "apel = \n",
      "pear = *\n",
      "stoberi = **\n",
      "blueberry = ***\n",
      "Sehingga, dapat diketahui range objek akan sama nilainya dengan objek terjauh\n",
      "Sekian, terima kasih\n"
     ]
    }
   ],
   "source": [
    "#######################################\n",
    "# Latihan Penggunaan 'Fungsi Range'\n",
    "# Beserta pengaplikasiannya\n",
    "#######################################\n",
    "\n",
    "# berikut adalah deklarasi awal pernyataan dengan data strings\n",
    "# beserta inisialisasi variabel dengan fungsi 'list' dan fungsi'range'\n",
    "print(\"Diketahui poin dari masing-masing objek\")\n",
    "buah2 = ['apel','pear','stoberi','blueberry']\n",
    "angka2 = range(len(buah2))\n",
    "\n",
    "# dipilih sebarang variabel untuk dimasukkan pada fungsi 'for'\n",
    "# fungsi 'for' memiliki syarat untuk memasukkan variabel pada variabel 'range'\n",
    "for pilihan in angka2 :\n",
    "    # variabel sebarang akan dieksekusi dengan fungsi 'range'\n",
    "    # ditambahkan dengan data strings dan data list\n",
    "    print(pilihan , '=' , buah2[pilihan])\n",
    "    \n",
    "    # lalu, akan dicari jumlah nilai dari fungsi 'range'\n",
    "    # dengan menggunakan 'while' untuk mengetahui banyaknya 'list'\n",
    "    while 0 <= pilihan <= len(buah2):\n",
    "        pilihan += 1\n",
    "# data variabel sebarang akan di operasikan dengan operasi '*'\n",
    "# untuk mengetahui banyaknya jumlah list yang berada pada fungsi 'range'\n",
    "# diandaikan poin = *\n",
    "print(\"poin untuk \",angka2, 'objek =', pilihan * '*' , \"bintang\")\n",
    "\n",
    "print(\"Akan dicari nilai '*' dari masing-masing objek\")\n",
    "\n",
    "# berikutnya, akan dicari poin untuk masing-masing 'list'\n",
    "# digunakan fungsi 'for' untuk mengurutkan data 'range' beserta 'list' nya\n",
    "# urutan dari list akan dioperasikan dengan '*' untuk menentukan poin\n",
    "for isi in angka2 :\n",
    "    print(buah2[isi], '=' , isi * '*')\n",
    "\n",
    "print(\"Sehingga, dapat diketahui range objek akan sama nilainya dengan objek terjauh\")\n",
    "print(\"Sekian, terima kasih\")\n",
    "\n",
    "\n",
    "#$$$$$$$$$$$$$$$$$$$$$$$$$$$$$$$$$$$$$$$$$$$$$$$$   \n",
    "# berikut adalah ouput dari syntax yang saya buat \n",
    "#$$$$$$$$$$$$$$$$$$$$$$$$$$$$$$$$$$$$$$$$$$$$$$$$ "
   ]
  }
 ],
 "metadata": {
  "kernelspec": {
   "display_name": "Python 3 (ipykernel)",
   "language": "python",
   "name": "python3"
  },
  "language_info": {
   "codemirror_mode": {
    "name": "ipython",
    "version": 3
   },
   "file_extension": ".py",
   "mimetype": "text/x-python",
   "name": "python",
   "nbconvert_exporter": "python",
   "pygments_lexer": "ipython3",
   "version": "3.9.13"
  }
 },
 "nbformat": 4,
 "nbformat_minor": 5
}
